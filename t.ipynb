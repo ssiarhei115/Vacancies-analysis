{
 "cells": [
  {
   "cell_type": "code",
   "execution_count": 5,
   "metadata": {},
   "outputs": [],
   "source": [
    "# sudo apt install libpq-dev python3-dev\n",
    "#%pip install psycopg2==2.9.4\n",
    "#%pip install --trusted-host pypi.org --trusted-host files.pythonhosted.org --trusted-host pypi.python.org psycopg2\n",
    "#--\n",
    "#sudo apt-get install gcc libpq-dev -y\n",
    "#sudo apt-get install python-dev  python-pip -y\n",
    "#sudo apt-get install python3-dev python3-pip python3-venv python3-wheel -y\n",
    "#pip install wheel\n",
    "#--\n",
    "\n",
    "\n",
    "#DBNAME = 'project_sql'\n",
    "#USER = 'skillfactory'\n",
    "#PASSWORD = 'cCkxxLVrDE8EbvjueeMedPKt'\n",
    "#HOST = '84.201.134.129'\n",
    "#PORT = 5432\n",
    "\n",
    "\n"
   ]
  },
  {
   "cell_type": "code",
   "execution_count": 7,
   "metadata": {},
   "outputs": [],
   "source": [
    "import psycopg2\n",
    "import pandas as pd"
   ]
  }
 ],
 "metadata": {
  "kernelspec": {
   "display_name": "Python 3",
   "language": "python",
   "name": "python3"
  },
  "language_info": {
   "codemirror_mode": {
    "name": "ipython",
    "version": 3
   },
   "file_extension": ".py",
   "mimetype": "text/x-python",
   "name": "python",
   "nbconvert_exporter": "python",
   "pygments_lexer": "ipython3",
   "version": "3.10.6"
  },
  "orig_nbformat": 4
 },
 "nbformat": 4,
 "nbformat_minor": 2
}
